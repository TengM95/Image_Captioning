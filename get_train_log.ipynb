{
 "cells": [
  {
   "cell_type": "code",
   "execution_count": 7,
   "metadata": {},
   "outputs": [],
   "source": [
    "import torch"
   ]
  },
  {
   "cell_type": "code",
   "execution_count": 8,
   "metadata": {},
   "outputs": [],
   "source": [
    "checkpoint_path = 'BEST_checkpoint_resnet101_NICA_coco_5_cap_per_img_5_min_word_freq.pth.tar'"
   ]
  },
  {
   "cell_type": "code",
   "execution_count": 9,
   "metadata": {},
   "outputs": [],
   "source": [
    "checkpoint = torch.load(checkpoint_path)\n",
    "history = checkpoint['history']"
   ]
  },
  {
   "cell_type": "code",
   "execution_count": 10,
   "metadata": {},
   "outputs": [
    {
     "name": "stdout",
     "output_type": "stream",
     "text": [
      "Epoch: [0][0/17702]\tBatch Time 2.052 (2.052)\tData Load Time 0.715 (0.715)\tLoss 10.1280 (10.1280)\tTop-5 Accuracy 0.000 (0.000)\n",
      "Epoch: [0][100/17702]\tBatch Time 0.518 (0.483)\tData Load Time 0.000 (0.007)\tLoss 5.7740 (6.6553)\tTop-5 Accuracy 38.736 (34.502)\n",
      "Epoch: [0][200/17702]\tBatch Time 0.402 (0.484)\tData Load Time 0.000 (0.004)\tLoss 5.2176 (6.1848)\tTop-5 Accuracy 49.123 (38.309)\n",
      "Validation: [0/782]\tBatch Time 0.495 (0.495)\tLoss 5.1652 (5.1652)\tTop-5 Accuracy 51.524 (51.524)\t\n",
      "Validation: [100/782]\tBatch Time 38.101 (19.180)\tLoss 5.1370 (5.2760)\tTop-5 Accuracy 51.240 (49.317)\t\n",
      "Validation: [200/782]\tBatch Time 78.366 (38.653)\tLoss 5.3696 (5.2809)\tTop-5 Accuracy 49.718 (49.060)\t\n",
      "Validation: [300/782]\tBatch Time 116.093 (58.335)\tLoss 5.3007 (5.2784)\tTop-5 Accuracy 48.476 (49.079)\t\n",
      "Validation: [400/782]\tBatch Time 155.199 (77.707)\tLoss 5.2319 (5.2742)\tTop-5 Accuracy 50.135 (49.196)\t\n",
      "Validation: [500/782]\tBatch Time 194.098 (97.080)\tLoss 5.1771 (5.2696)\tTop-5 Accuracy 50.806 (49.196)\t\n",
      "Validation: [600/782]\tBatch Time 232.821 (116.454)\tLoss 5.2272 (5.2689)\tTop-5 Accuracy 48.352 (49.205)\t\n",
      "Validation: [700/782]\tBatch Time 272.096 (135.910)\tLoss 5.0790 (5.2676)\tTop-5 Accuracy 50.847 (49.207)\t\n",
      "\n",
      " * LOSS - 5.267, TOP-5 ACCURACY - 49.243, BLEU-4 - 0.06527216000541336\n",
      "\n",
      "Epoch: [1][0/17702]\tBatch Time 2.210 (2.210)\tData Load Time 0.698 (0.698)\tLoss 5.5912 (5.5912)\tTop-5 Accuracy 45.087 (45.087)\n",
      "Epoch: [1][100/17702]\tBatch Time 0.471 (0.518)\tData Load Time 0.000 (0.007)\tLoss 4.7626 (5.2805)\tTop-5 Accuracy 52.991 (49.046)\n",
      "Epoch: [1][200/17702]\tBatch Time 0.501 (0.504)\tData Load Time 0.000 (0.004)\tLoss 4.9021 (5.1682)\tTop-5 Accuracy 55.118 (50.561)\n",
      "Validation: [0/782]\tBatch Time 0.816 (0.816)\tLoss 4.6745 (4.6745)\tTop-5 Accuracy 59.777 (59.777)\t\n",
      "Validation: [100/782]\tBatch Time 41.807 (21.548)\tLoss 4.5513 (4.7930)\tTop-5 Accuracy 59.375 (56.143)\t\n",
      "\n",
      " * LOSS - 4.801, TOP-5 ACCURACY - 55.919, BLEU-4 - 0.0868805718869575\n",
      "\n"
     ]
    }
   ],
   "source": [
    "for log in history:\n",
    "    print(log)"
   ]
  },
  {
   "cell_type": "code",
   "execution_count": null,
   "metadata": {},
   "outputs": [],
   "source": []
  }
 ],
 "metadata": {
  "kernelspec": {
   "display_name": "Python 3",
   "language": "python",
   "name": "python3"
  },
  "language_info": {
   "codemirror_mode": {
    "name": "ipython",
    "version": 3
   },
   "file_extension": ".py",
   "mimetype": "text/x-python",
   "name": "python",
   "nbconvert_exporter": "python",
   "pygments_lexer": "ipython3",
   "version": "3.7.3"
  }
 },
 "nbformat": 4,
 "nbformat_minor": 2
}
